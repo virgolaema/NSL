{
 "cells": [
  {
   "cell_type": "markdown",
   "metadata": {},
   "source": [
    "# Esercitazione 7\n",
    "## Esercizio 1\n",
    "### Punto 1\n",
    "\n",
    "Creo una funzione _autocorrelation_, che utilizzo per stimare l'autocorrelazione nei diversi casi.\n",
    "\n",
    "Mostro la funzione di autocorrelazione per $10^4$ valori dell'energia interna U, per i tre stati di aggregazione. Non utilizzo $M=5 \\times 10^5$ valori poichè la computazione delle autocorrelazioni diventerebbe estremamente lunga."
   ]
  },
  {
   "cell_type": "code",
   "execution_count": 2,
   "metadata": {},
   "outputs": [],
   "source": [
    "import numpy as np\n",
    "import matplotlib.pyplot as plt\n",
    "\n",
    "def autocorrelation (vec, var_, tmax):\n",
    "    func = np.zeros(tmax)\n",
    "    for t in range (tmax-1):\n",
    "        norm = tmax - t\n",
    "        sum1 = 0.\n",
    "        sum2a = 0.\n",
    "        sum2b = 0.\n",
    "        for tprimo in range(tmax-t):\n",
    "            sum1 += vec[tprimo] * vec[tprimo+t]\n",
    "            sum2a += vec[tprimo]\n",
    "            sum2b += vec[t+tprimo]\n",
    "        func [t]  = (sum1 - sum2a*sum2b/norm) / var_ / norm\n",
    "        if (t%2000==0):\n",
    "            print ('autoc computed for element %s' %t)\n",
    "    func[0] = 1\n",
    "    return func"
   ]
  },
  {
   "cell_type": "code",
   "execution_count": 3,
   "metadata": {},
   "outputs": [
    {
     "name": "stdout",
     "output_type": "stream",
     "text": [
      "autoc computed for element 0\n",
      "autoc computed for element 2000\n",
      "autoc computed for element 4000\n",
      "autoc computed for element 6000\n",
      "autoc computed for element 8000\n",
      "autoc computed for element 0\n",
      "autoc computed for element 2000\n",
      "autoc computed for element 4000\n",
      "autoc computed for element 6000\n",
      "autoc computed for element 8000\n",
      "autoc computed for element 0\n"
     ]
    },
    {
     "ename": "KeyboardInterrupt",
     "evalue": "",
     "output_type": "error",
     "traceback": [
      "\u001b[0;31m---------------------------------------------------------------------------\u001b[0m",
      "\u001b[0;31mKeyboardInterrupt\u001b[0m                         Traceback (most recent call last)",
      "\u001b[0;32m<ipython-input-3-2ee79fa7d0f0>\u001b[0m in \u001b[0;36m<module>\u001b[0;34m\u001b[0m\n\u001b[1;32m      5\u001b[0m \u001b[0mautoc_s\u001b[0m \u001b[0;34m=\u001b[0m \u001b[0mautocorrelation\u001b[0m\u001b[0;34m(\u001b[0m\u001b[0;34m(\u001b[0m\u001b[0mUs\u001b[0m\u001b[0;34m)\u001b[0m\u001b[0;34m,\u001b[0m \u001b[0mnp\u001b[0m\u001b[0;34m.\u001b[0m\u001b[0mvar\u001b[0m\u001b[0;34m(\u001b[0m\u001b[0mUs\u001b[0m\u001b[0;34m)\u001b[0m\u001b[0;34m,\u001b[0m \u001b[0mlen\u001b[0m\u001b[0;34m(\u001b[0m\u001b[0mUs\u001b[0m\u001b[0;34m)\u001b[0m\u001b[0;34m)\u001b[0m\u001b[0;34m\u001b[0m\u001b[0;34m\u001b[0m\u001b[0m\n\u001b[1;32m      6\u001b[0m \u001b[0mautoc_l\u001b[0m \u001b[0;34m=\u001b[0m \u001b[0mautocorrelation\u001b[0m\u001b[0;34m(\u001b[0m\u001b[0;34m(\u001b[0m\u001b[0mUl\u001b[0m\u001b[0;34m)\u001b[0m\u001b[0;34m,\u001b[0m \u001b[0mnp\u001b[0m\u001b[0;34m.\u001b[0m\u001b[0mvar\u001b[0m\u001b[0;34m(\u001b[0m\u001b[0mUl\u001b[0m\u001b[0;34m)\u001b[0m\u001b[0;34m,\u001b[0m \u001b[0mlen\u001b[0m\u001b[0;34m(\u001b[0m\u001b[0mUl\u001b[0m\u001b[0;34m)\u001b[0m\u001b[0;34m)\u001b[0m\u001b[0;34m\u001b[0m\u001b[0;34m\u001b[0m\u001b[0m\n\u001b[0;32m----> 7\u001b[0;31m \u001b[0mautoc_g\u001b[0m \u001b[0;34m=\u001b[0m \u001b[0mautocorrelation\u001b[0m\u001b[0;34m(\u001b[0m\u001b[0;34m(\u001b[0m\u001b[0mUg\u001b[0m\u001b[0;34m)\u001b[0m\u001b[0;34m,\u001b[0m \u001b[0mnp\u001b[0m\u001b[0;34m.\u001b[0m\u001b[0mvar\u001b[0m\u001b[0;34m(\u001b[0m\u001b[0mUg\u001b[0m\u001b[0;34m)\u001b[0m\u001b[0;34m,\u001b[0m \u001b[0mlen\u001b[0m\u001b[0;34m(\u001b[0m\u001b[0mUg\u001b[0m\u001b[0;34m)\u001b[0m\u001b[0;34m)\u001b[0m\u001b[0;34m\u001b[0m\u001b[0;34m\u001b[0m\u001b[0m\n\u001b[0m",
      "\u001b[0;32m<ipython-input-2-bcbbf66a4e5b>\u001b[0m in \u001b[0;36mautocorrelation\u001b[0;34m(vec, var_, tmax)\u001b[0m\n\u001b[1;32m     11\u001b[0m         \u001b[0;32mfor\u001b[0m \u001b[0mtprimo\u001b[0m \u001b[0;32min\u001b[0m \u001b[0mrange\u001b[0m\u001b[0;34m(\u001b[0m\u001b[0mtmax\u001b[0m\u001b[0;34m-\u001b[0m\u001b[0mt\u001b[0m\u001b[0;34m)\u001b[0m\u001b[0;34m:\u001b[0m\u001b[0;34m\u001b[0m\u001b[0;34m\u001b[0m\u001b[0m\n\u001b[1;32m     12\u001b[0m             \u001b[0msum1\u001b[0m \u001b[0;34m+=\u001b[0m \u001b[0mvec\u001b[0m\u001b[0;34m[\u001b[0m\u001b[0mtprimo\u001b[0m\u001b[0;34m]\u001b[0m \u001b[0;34m*\u001b[0m \u001b[0mvec\u001b[0m\u001b[0;34m[\u001b[0m\u001b[0mtprimo\u001b[0m\u001b[0;34m+\u001b[0m\u001b[0mt\u001b[0m\u001b[0;34m]\u001b[0m\u001b[0;34m\u001b[0m\u001b[0;34m\u001b[0m\u001b[0m\n\u001b[0;32m---> 13\u001b[0;31m             \u001b[0msum2a\u001b[0m \u001b[0;34m+=\u001b[0m \u001b[0mvec\u001b[0m\u001b[0;34m[\u001b[0m\u001b[0mtprimo\u001b[0m\u001b[0;34m]\u001b[0m\u001b[0;34m\u001b[0m\u001b[0;34m\u001b[0m\u001b[0m\n\u001b[0m\u001b[1;32m     14\u001b[0m             \u001b[0msum2b\u001b[0m \u001b[0;34m+=\u001b[0m \u001b[0mvec\u001b[0m\u001b[0;34m[\u001b[0m\u001b[0mt\u001b[0m\u001b[0;34m+\u001b[0m\u001b[0mtprimo\u001b[0m\u001b[0;34m]\u001b[0m\u001b[0;34m\u001b[0m\u001b[0;34m\u001b[0m\u001b[0m\n\u001b[1;32m     15\u001b[0m         \u001b[0mfunc\u001b[0m \u001b[0;34m[\u001b[0m\u001b[0mt\u001b[0m\u001b[0;34m]\u001b[0m  \u001b[0;34m=\u001b[0m \u001b[0;34m(\u001b[0m\u001b[0msum1\u001b[0m \u001b[0;34m-\u001b[0m \u001b[0msum2a\u001b[0m\u001b[0;34m*\u001b[0m\u001b[0msum2b\u001b[0m\u001b[0;34m/\u001b[0m\u001b[0mnorm\u001b[0m\u001b[0;34m)\u001b[0m \u001b[0;34m/\u001b[0m \u001b[0mvar_\u001b[0m \u001b[0;34m/\u001b[0m \u001b[0mnorm\u001b[0m\u001b[0;34m\u001b[0m\u001b[0;34m\u001b[0m\u001b[0m\n",
      "\u001b[0;31mKeyboardInterrupt\u001b[0m: "
     ]
    }
   ],
   "source": [
    "Us = np.loadtxt(\"es7_1/1_1_solid/output.istU\", usecols=(0), delimiter=',', unpack='true')\n",
    "Ul = np.loadtxt(\"es7_1/1_1_liquid/output.istU\", usecols=(0), delimiter=',', unpack='true')\n",
    "Ug = np.loadtxt(\"es7_1/1_1_gas/output.istU\", usecols=(0), delimiter=',', unpack='true')\n",
    "\n",
    "autoc_s = autocorrelation((Us), np.var(Us), len(Us))\n",
    "autoc_l = autocorrelation((Ul), np.var(Ul), len(Ul))\n",
    "autoc_g = autocorrelation((Ug), np.var(Ug), len(Ug))"
   ]
  },
  {
   "cell_type": "code",
   "execution_count": null,
   "metadata": {},
   "outputs": [],
   "source": [
    "print (\"Solid                                   Liquid                                         Gas\")\n",
    "\n",
    "fig, axs = plt.subplots(1, 3, sharey=True, tight_layout=True,figsize=(14, 4))\n",
    "\n",
    "axs[0].set_ylabel(r\"$\\chi (t)$\")\n",
    "axs[0].set_xlabel(\"t\")\n",
    "axs[1].set_xlabel(\"t\")\n",
    "axs[2].set_xlabel(\"t\")\n",
    "\n",
    "axs[0].plot(autoc_s[:200])\n",
    "axs[1].plot(autoc_l[:200])\n",
    "axs[2].plot(autoc_g[:200])"
   ]
  },
  {
   "cell_type": "code",
   "execution_count": null,
   "metadata": {},
   "outputs": [],
   "source": [
    "Ps = np.loadtxt(\"es7_1/1_1_solid/output.istP\", usecols=(0), delimiter=',', unpack='true')\n",
    "Pl = np.loadtxt(\"es7_1/1_1_liquid/output.istP\", usecols=(0), delimiter=',', unpack='true')\n",
    "Pg = np.loadtxt(\"es7_1/1_1_gas/output.istP\", usecols=(0), delimiter=',', unpack='true')\n",
    "\n",
    "autoc_Ps = autocorrelation(Ps, np.var(Ps), len(Ps))\n",
    "autoc_Pl = autocorrelation(Pl, np.var(Pl), len(Pl))\n",
    "autoc_Pg = autocorrelation(Pg, np.var(Pg), len(Pg))"
   ]
  },
  {
   "cell_type": "code",
   "execution_count": null,
   "metadata": {},
   "outputs": [],
   "source": [
    "print (\"Solid                                   Liquid                                         Gas\")\n",
    "\n",
    "\n",
    "fig2, axs2 = plt.subplots(1, 3, sharey=True, tight_layout=True,figsize=(14, 5))\n",
    "\n",
    "axs2[0].set_ylabel(r\"$\\chi (t)$\")\n",
    "axs2[0].set_xlabel(\"t\")\n",
    "axs2[1].set_xlabel(\"t\")\n",
    "axs2[2].set_xlabel(\"t\")\n",
    " \n",
    "axs2[0].plot(autoc_s[:200])\n",
    "axs2[1].plot(autoc_l[:200])\n",
    "axs2[2].plot(autoc_g[:200])"
   ]
  },
  {
   "cell_type": "markdown",
   "metadata": {},
   "source": [
    "Osservo che l'autocorrelazione arriva a zero dopo circa 30 valori calcolati. Pertanto, è necessario che i blocchi abbiano almeno tale dimensione."
   ]
  },
  {
   "cell_type": "markdown",
   "metadata": {},
   "source": [
    "### Punto 2\n",
    "\n",
    "Con i dati generati, computo l'incertezza al variare della dimensione dei blocchi L. Per fare ciò, partendo dai $5 \\times 10^5$ dati generati, li raggruppo in un numero variabile di blocchi ed eseguo il calcolo della varianza a blocchi. Mostro di seguito le deviazioni standard per le stime finali dopo una media a blocchi su U e P, per i 3 \n",
    "stati di aggregazione. Creo una funzione errors per stimare in maniera efficiente le incertezze partendo dal vettore dei valori."
   ]
  },
  {
   "cell_type": "code",
   "execution_count": null,
   "metadata": {},
   "outputs": [],
   "source": [
    "def errors(L, vec, M):\n",
    "    err = [None]*len(L)\n",
    "    k = 0\n",
    "    for Lblock in (L):\n",
    "        if (Lblock%1000==0):\n",
    "            print (\"...with L =\",Lblock)\n",
    "        N = int (M/Lblock)\n",
    "        mean2 = 0\n",
    "        for Nblock in range(N):\n",
    "            mean1 = 0\n",
    "            for i in range (Lblock):\n",
    "                mean1 += vec[Nblock*Lblock+i]\n",
    "            mean1 /= Lblock\n",
    "            mean2 += mean1*mean1\n",
    "        mean2 /= N\n",
    "        err[k] = np.sqrt(1./(N)*(mean2-pow(np.mean(vec),2))) \n",
    "        k +=1\n",
    "    return err\n",
    "\n",
    "L=[]\n",
    "simulations = [\"gas\", \"liquid\", \"solid\"]\n",
    "for i in range (20,5000,20):\n",
    "    L.append(i)\n",
    "\n",
    "M = 500000"
   ]
  },
  {
   "cell_type": "code",
   "execution_count": null,
   "metadata": {},
   "outputs": [],
   "source": [
    "#ENERGY\n",
    "\n",
    "U_L, axs_UL = plt.subplots(1, 3, sharey=False, tight_layout=True,figsize=(14, 6))\n",
    "i= 0\n",
    "for sim in simulations:\n",
    "    print('Analysis for the %s state...' % sim)\n",
    "    U = np.loadtxt(\"es7_1/1_2_%s/output.istU\" %sim, usecols=(0), delimiter=',', unpack='true')\n",
    "    err = errors(L,U,M)\n",
    "    axs_UL[i].plot (L,err, linestyle=\"\", marker=\".\")\n",
    "    axs_UL[i].set_ylabel(r'$\\sigma_{U}$')\n",
    "    axs_UL[i].set_xlabel(\"L\")\n",
    "    i +=1\n",
    "      \n",
    "print (\"         Gas                                Liquid                                         Solid\")\n",
    "\n",
    "#axs_UL[1].plot (L,err_liquid, linestyle=\"\", marker=\".\")\n",
    "#axs_UL[2].plot (L,err_solid, linestyle=\"\", marker=\".\")"
   ]
  },
  {
   "cell_type": "code",
   "execution_count": null,
   "metadata": {},
   "outputs": [],
   "source": [
    "#PRESSURE\n",
    "P_L, axs_PL = plt.subplots(1, 3, sharey=False, tight_layout=True,figsize=(14, 6))\n",
    "i= 0\n",
    "for sim in simulations:\n",
    "    print('Analysis for the %s state...' % sim)\n",
    "    P = np.loadtxt(\"es7_1/1_2_%s/output.istP\" %sim, usecols=(0), delimiter=',', unpack='true')\n",
    "    err = errors(L,P,M)\n",
    "    axs_PL[i].plot (L,err, linestyle=\"\", marker=\".\")\n",
    "    axs_PL[i].set_ylabel(r'$\\sigma_{U}$')\n",
    "    axs_PL[i].set_xlabel(\"L\")\n",
    "    i +=1\n",
    "\n",
    "print (\"   Gas                                   Liquid                                         Solid\")"
   ]
  },
  {
   "cell_type": "markdown",
   "metadata": {},
   "source": [
    "## Esercizio 2\n",
    "\n",
    "Calcolo i valori di $g(r)$, dopo aver diviso in bin la dimensione spaziale $r$. Rappresento i valori ottenuti da tale istogramma per i tre stati di aggregazione."
   ]
  },
  {
   "cell_type": "code",
   "execution_count": null,
   "metadata": {},
   "outputs": [],
   "source": [
    "import numpy as np\n",
    "import matplotlib.pyplot as plt\n",
    "\n",
    "nblks, bin_value_g, bin_mean_g, bin_error_g  = np.loadtxt(\"es7_1/2_gas/output.gave.0\", usecols=(0,1,2,3), delimiter=',', unpack='true')\n",
    "nblks, bin_value_l, bin_mean_l, bin_error_l  = np.loadtxt(\"es7_1/2_liquid/output.gave.0\", usecols=(0,1,2,3), delimiter=',', unpack='true')\n",
    "nblks, bin_value_s, bin_mean_s, bin_error_s  = np.loadtxt(\"es7_1/1_2_solid/output.gave.0\", usecols=(0,1,2,3), delimiter=',', unpack='true')\n",
    "\n",
    "\n",
    "fig2, axs2 = plt.subplots(1, 3, sharey=True, tight_layout=True,figsize=(14, 6))\n",
    "\n",
    "\n",
    "axs2[0].set_ylabel(r\"$ g(r)$\")\n",
    "axs2[0].set_xlabel(\"r\")\n",
    "axs2[1].set_xlabel(\"r\")\n",
    "axs2[2].set_xlabel(\"r\")\n",
    "\n",
    "axs2[0].errorbar(bin_value_g, bin_mean_g, yerr=bin_error_g, ecolor = \"orange\")\n",
    "axs2[1].errorbar(bin_value_l, bin_mean_l, yerr=bin_error_l, ecolor = \"orange\")\n",
    "axs2[2].errorbar(bin_value_s, bin_mean_s, yerr=bin_error_s, ecolor = \"orange\")\n",
    "\n",
    "print (\"          Gas                                   Liquid                                         Solid\")"
   ]
  },
  {
   "cell_type": "markdown",
   "metadata": {},
   "source": [
    "## Esercizio 3-4\n",
    "\n",
    "Eseguo di nuovo la simulazione del codice implementato nell'esercitazione 4, con dati di input uguali all'esercizio 7.1-2. Rappresento di seguito i risultati per U/N, P e g(r)."
   ]
  },
  {
   "cell_type": "code",
   "execution_count": 7,
   "metadata": {},
   "outputs": [
    {
     "data": {
      "image/png": "[encoded data removed]",
      "text/plain": [
       "<Figure size 432x288 with 1 Axes>"
      ]
     },
     "metadata": {
      "needs_background": "light"
     },
     "output_type": "display_data"
    }
   ],
   "source": [
    "nblks, bin_value_g, bin_mean_g, bin_error_g  = np.loadtxt(\"es7_3/results/output.gave.0\", usecols=(0,1,2,3), delimiter=',', unpack='true')\n",
    "\n",
    "nblks\n",
    "bin_value_g\n",
    "\n",
    "\n",
    "plt.errorbar(bin_value_g, bin_mean_g, yerr=bin_error_g, ecolor = \"orange\")\n",
    "plt.show()"
   ]
  },
  {
   "cell_type": "code",
   "execution_count": null,
   "metadata": {},
   "outputs": [],
   "source": []
  }
 ],
 "metadata": {
  "kernelspec": {
   "display_name": "Python 3",
   "language": "python",
   "name": "python3"
  },
  "language_info": {
   "codemirror_mode": {
    "name": "ipython",
    "version": 3
   },
   "file_extension": ".py",
   "mimetype": "text/x-python",
   "name": "python",
   "nbconvert_exporter": "python",
   "pygments_lexer": "ipython3",
   "version": "3.8.8"
  }
 },
 "nbformat": 4,
 "nbformat_minor": 4
}
