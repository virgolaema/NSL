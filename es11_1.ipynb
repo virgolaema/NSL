{
 "cells": [
  {
   "cell_type": "markdown",
   "metadata": {},
   "source": [
    "# Esercitazione 11\n",
    "\n",
    "## Esercizio 1"
   ]
  },
  {
   "cell_type": "markdown",
   "metadata": {},
   "source": [
    "Definisco la funzione lineare da predire. Il rumore stocastico viene introdotto tramite $\\sigma$; chiaramente all'aumentare di tale parametro il fit con i dati peggiora. Lo imposto a 0.8, così da fornire sufficiente rumore ai dati senza tuttavia deviare eccessivamente dalla retta. \n",
    "\n",
    "Aumentare numero di dati di training migliora il fit del modello. Imposto $N_{train} = 1000$ e $N_{valid} = 100$, così da migliorare il fit senza aumentare eccessivamente i tempi di computazione."
   ]
  },
  {
   "cell_type": "code",
   "execution_count": 114,
   "metadata": {},
   "outputs": [],
   "source": [
    "import numpy as np\n",
    "\n",
    "# target parameters of f(x) = m*x + b\n",
    "m = 2 # slope\n",
    "b = 1 # intersect\n",
    "\n",
    "np.random.seed(0)\n",
    "x_train = np.random.uniform(-1, 1, 1000)\n",
    "x_valid = np.random.uniform(-1, 1, 100)\n",
    "x_valid.sort()\n",
    "y_target = m * x_valid + b # ideal (target) linear function\n",
    "\n",
    "sigma = 0.8 # noise standard deviation\n",
    "y_train = np.random.normal(m * x_train + b, sigma) # actual measures \n",
    "y_valid = np.random.normal(m * x_valid + b, sigma)"
   ]
  },
  {
   "cell_type": "code",
   "execution_count": 115,
   "metadata": {},
   "outputs": [
    {
     "data": {
      "image/png": "[encoded data removed]",
      "text/plain": [
       "<Figure size 432x288 with 1 Axes>"
      ]
     },
     "metadata": {
      "needs_background": "light"
     },
     "output_type": "display_data"
    }
   ],
   "source": [
    "# plot training and target dataset\n",
    "import matplotlib.pyplot as plt\n",
    "plt.plot(x_valid, y_target)\n",
    "plt.scatter(x_valid, y_valid, color='r')\n",
    "plt.grid(True); plt.show()"
   ]
  },
  {
   "cell_type": "markdown",
   "metadata": {},
   "source": [
    "Creo ora la rete neurale. Imposto come ottimizzatore una stocasthic gradient descent, come loss function il mean squared error. Avendo due soli parametri da calcolare, risulta sufficiente un neurone."
   ]
  },
  {
   "cell_type": "code",
   "execution_count": 116,
   "metadata": {},
   "outputs": [
    {
     "name": "stdout",
     "output_type": "stream",
     "text": [
      "Model: \"sequential_12\"\n",
      "_________________________________________________________________\n",
      "Layer (type)                 Output Shape              Param #   \n",
      "=================================================================\n",
      "dense_12 (Dense)             (None, 1)                 2         \n",
      "=================================================================\n",
      "Total params: 2\n",
      "Trainable params: 2\n",
      "Non-trainable params: 0\n",
      "_________________________________________________________________\n"
     ]
    }
   ],
   "source": [
    "import tensorflow as tf\n",
    "from tensorflow import keras\n",
    "from tensorflow.keras.models import Sequential\n",
    "from tensorflow.keras.layers import Dense, Activation\n",
    "from tensorflow.keras import backend as K\n",
    "from tensorflow.keras.utils import get_custom_objects\n",
    "import matplotlib.pyplot as plt\n",
    "\n",
    "model = tf.keras.Sequential()\n",
    "model.add(Dense(1, input_shape=(1,))) #1 neuron\n",
    "model.compile(optimizer='sgd', loss='mse', metrics=['mse'])\n",
    "model.summary()"
   ]
  },
  {
   "cell_type": "markdown",
   "metadata": {},
   "source": [
    "Eseguo il fit del modello partendo dai dati di training. Aumentando il numero di epoche aumenta la precisione raggiunta, ma anche il tempo di computazione (che però in un esempio così semplice risulta comunque molto basso). Imposto $N_{epochs} = 30$, poichè oltre tale valore il modello non risulta migliorare ulteriormente, la loss function cessa di diminuire significativamente."
   ]
  },
  {
   "cell_type": "code",
   "execution_count": 117,
   "metadata": {},
   "outputs": [
    {
     "name": "stdout",
     "output_type": "stream",
     "text": [
      "Epoch 1/30\n",
      "32/32 [==============================] - 0s 6ms/step - loss: 5.0332 - mse: 5.0332 - val_loss: 4.1818 - val_mse: 4.1818\n",
      "Epoch 2/30\n",
      "32/32 [==============================] - 0s 2ms/step - loss: 3.1423 - mse: 3.1423 - val_loss: 2.8798 - val_mse: 2.8798\n",
      "Epoch 3/30\n",
      "32/32 [==============================] - 0s 3ms/step - loss: 2.2331 - mse: 2.2331 - val_loss: 2.0821 - val_mse: 2.0821\n",
      "Epoch 4/30\n",
      "32/32 [==============================] - 0s 3ms/step - loss: 1.6495 - mse: 1.6495 - val_loss: 1.5715 - val_mse: 1.5715\n",
      "Epoch 5/30\n",
      "32/32 [==============================] - 0s 2ms/step - loss: 1.2921 - mse: 1.2921 - val_loss: 1.2286 - val_mse: 1.2286\n",
      "Epoch 6/30\n",
      "32/32 [==============================] - 0s 3ms/step - loss: 1.0976 - mse: 1.0976 - val_loss: 1.0070 - val_mse: 1.0070\n",
      "Epoch 7/30\n",
      "32/32 [==============================] - 0s 2ms/step - loss: 0.8282 - mse: 0.8282 - val_loss: 0.8569 - val_mse: 0.8569\n",
      "Epoch 8/30\n",
      "32/32 [==============================] - 0s 3ms/step - loss: 0.7613 - mse: 0.7613 - val_loss: 0.7562 - val_mse: 0.7562\n",
      "Epoch 9/30\n",
      "32/32 [==============================] - 0s 3ms/step - loss: 0.7067 - mse: 0.7067 - val_loss: 0.6879 - val_mse: 0.6879\n",
      "Epoch 10/30\n",
      "32/32 [==============================] - 0s 2ms/step - loss: 0.7082 - mse: 0.7082 - val_loss: 0.6436 - val_mse: 0.6436\n",
      "Epoch 11/30\n",
      "32/32 [==============================] - 0s 3ms/step - loss: 0.7014 - mse: 0.7014 - val_loss: 0.6095 - val_mse: 0.6095\n",
      "Epoch 12/30\n",
      "32/32 [==============================] - 0s 2ms/step - loss: 0.6469 - mse: 0.6469 - val_loss: 0.5877 - val_mse: 0.5877\n",
      "Epoch 13/30\n",
      "32/32 [==============================] - 0s 2ms/step - loss: 0.6200 - mse: 0.6200 - val_loss: 0.5715 - val_mse: 0.5715\n",
      "Epoch 14/30\n",
      "32/32 [==============================] - 0s 3ms/step - loss: 0.6135 - mse: 0.6135 - val_loss: 0.5598 - val_mse: 0.5598\n",
      "Epoch 15/30\n",
      "32/32 [==============================] - 0s 3ms/step - loss: 0.5575 - mse: 0.5575 - val_loss: 0.5516 - val_mse: 0.5516\n",
      "Epoch 16/30\n",
      "32/32 [==============================] - 0s 3ms/step - loss: 0.6112 - mse: 0.6112 - val_loss: 0.5446 - val_mse: 0.5446\n",
      "Epoch 17/30\n",
      "32/32 [==============================] - 0s 3ms/step - loss: 0.5835 - mse: 0.5835 - val_loss: 0.5414 - val_mse: 0.5414\n",
      "Epoch 18/30\n",
      "32/32 [==============================] - 0s 2ms/step - loss: 0.6001 - mse: 0.6001 - val_loss: 0.5370 - val_mse: 0.5370\n",
      "Epoch 19/30\n",
      "32/32 [==============================] - 0s 3ms/step - loss: 0.6448 - mse: 0.6448 - val_loss: 0.5351 - val_mse: 0.5351\n",
      "Epoch 20/30\n",
      "32/32 [==============================] - 0s 3ms/step - loss: 0.5799 - mse: 0.5799 - val_loss: 0.5332 - val_mse: 0.5332\n",
      "Epoch 21/30\n",
      "32/32 [==============================] - 0s 3ms/step - loss: 0.6145 - mse: 0.6145 - val_loss: 0.5315 - val_mse: 0.5315\n",
      "Epoch 22/30\n",
      "32/32 [==============================] - 0s 2ms/step - loss: 0.6048 - mse: 0.6048 - val_loss: 0.5303 - val_mse: 0.5303\n",
      "Epoch 23/30\n",
      "32/32 [==============================] - 0s 2ms/step - loss: 0.6186 - mse: 0.6186 - val_loss: 0.5297 - val_mse: 0.5297\n",
      "Epoch 24/30\n",
      "32/32 [==============================] - 0s 3ms/step - loss: 0.6102 - mse: 0.6102 - val_loss: 0.5286 - val_mse: 0.5286\n",
      "Epoch 25/30\n",
      "32/32 [==============================] - 0s 3ms/step - loss: 0.5985 - mse: 0.5985 - val_loss: 0.5282 - val_mse: 0.5282\n",
      "Epoch 26/30\n",
      "32/32 [==============================] - 0s 3ms/step - loss: 0.5913 - mse: 0.5913 - val_loss: 0.5272 - val_mse: 0.5272\n",
      "Epoch 27/30\n",
      "32/32 [==============================] - 0s 3ms/step - loss: 0.5629 - mse: 0.5629 - val_loss: 0.5271 - val_mse: 0.5271\n",
      "Epoch 28/30\n",
      "32/32 [==============================] - 0s 2ms/step - loss: 0.5977 - mse: 0.5977 - val_loss: 0.5266 - val_mse: 0.5266\n",
      "Epoch 29/30\n",
      "32/32 [==============================] - 0s 3ms/step - loss: 0.5484 - mse: 0.5484 - val_loss: 0.5263 - val_mse: 0.5263\n",
      "Epoch 30/30\n",
      "32/32 [==============================] - 0s 3ms/step - loss: 0.6582 - mse: 0.6582 - val_loss: 0.5266 - val_mse: 0.5266\n"
     ]
    }
   ],
   "source": [
    "history = model.fit(x=x_train, y=y_train, \n",
    "          batch_size=32, epochs=30,\n",
    "          shuffle=True, # a good idea is to shuffle input before each epoch\n",
    "          validation_data=(x_valid, y_valid))"
   ]
  },
  {
   "cell_type": "markdown",
   "metadata": {},
   "source": [
    "Testo i parametri ottenuti dal modello con il set di validazione."
   ]
  },
  {
   "cell_type": "code",
   "execution_count": 118,
   "metadata": {},
   "outputs": [
    {
     "name": "stdout",
     "output_type": "stream",
     "text": [
      "4/4 [==============================] - 0s 1ms/step - loss: 0.5266 - mse: 0.5266\n",
      "Peformance dei dati di validazione:\n",
      "Test loss: 0.53\n",
      "Test accuracy: 0.53\n"
     ]
    }
   ],
   "source": [
    "model.get_weights()\n",
    "score = model.evaluate(x_valid, y_valid, batch_size=32, verbose=1)\n",
    "\n",
    "print(\"Peformance dei dati di validazione:\")\n",
    "print('Test loss: %.2f' %score[0])\n",
    "print('Test accuracy: %.2f' %score[1])"
   ]
  },
  {
   "cell_type": "markdown",
   "metadata": {},
   "source": [
    "Valuto ora la performance del modello rispetto alla curva esatta della funzione."
   ]
  },
  {
   "cell_type": "code",
   "execution_count": 119,
   "metadata": {},
   "outputs": [
    {
     "name": "stdout",
     "output_type": "stream",
     "text": [
      "4/4 [==============================] - 0s 2ms/step - loss: 3.0730e-05 - mse: 3.0730e-05\n",
      "Performance rispetto a curva esatta:\n",
      "Test loss: 0.00003\n",
      "Test accuracy: 0.00003\n"
     ]
    }
   ],
   "source": [
    "# exact curve\n",
    "score = model.evaluate(x_valid, y_target, batch_size=32, verbose=1)\n",
    "\n",
    "print(\"Performance rispetto a curva esatta:\")\n",
    "print('Test loss: %.5f' % score[0])\n",
    "print('Test accuracy: %.5f' % score[1])"
   ]
  },
  {
   "cell_type": "markdown",
   "metadata": {},
   "source": [
    "Confronto la loss function per i set di training e di validazione."
   ]
  },
  {
   "cell_type": "code",
   "execution_count": 120,
   "metadata": {},
   "outputs": [
    {
     "data": {
      "image/png": "[encoded data removed]",
      "text/plain": [
       "<Figure size 432x288 with 1 Axes>"
      ]
     },
     "metadata": {
      "needs_background": "light"
     },
     "output_type": "display_data"
    }
   ],
   "source": [
    "# look into training history\n",
    "# Plot training & validation loss values\n",
    "plt.plot(history.history['loss'])\n",
    "plt.plot(history.history['val_loss'])\n",
    "plt.title('Model loss')\n",
    "plt.ylabel('Loss')\n",
    "plt.xlabel('Epoch')\n",
    "plt.legend(['Train', 'Test'], loc='best')\n",
    "plt.show()"
   ]
  },
  {
   "cell_type": "code",
   "execution_count": 121,
   "metadata": {},
   "outputs": [
    {
     "data": {
      "image/png": "[encoded data removed]",
      "text/plain": [
       "<Figure size 432x288 with 1 Axes>"
      ]
     },
     "metadata": {
      "needs_background": "light"
     },
     "output_type": "display_data"
    }
   ],
   "source": [
    "x_predicted = np.random.uniform(-1, 1, 100)\n",
    "y_predicted = model.predict(x_predicted)\n",
    "plt.scatter(x_predicted, y_predicted,color='r')\n",
    "plt.plot(x_valid, y_target)\n",
    "plt.grid(True)\n",
    "plt.show()"
   ]
  },
  {
   "cell_type": "markdown",
   "metadata": {},
   "source": [
    "Le previsioni del modello risultano essere in ottimo accordo con la funzione esatta."
   ]
  }
 ],
 "metadata": {
  "kernelspec": {
   "display_name": "Python 3",
   "language": "python",
   "name": "python3"
  },
  "language_info": {
   "codemirror_mode": {
    "name": "ipython",
    "version": 3
   },
   "file_extension": ".py",
   "mimetype": "text/x-python",
   "name": "python",
   "nbconvert_exporter": "python",
   "pygments_lexer": "ipython3",
   "version": "3.9.5"
  }
 },
 "nbformat": 4,
 "nbformat_minor": 2
}
